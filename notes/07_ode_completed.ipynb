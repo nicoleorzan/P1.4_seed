{
 "cells": [
  {
   "cell_type": "markdown",
   "metadata": {},
   "source": [
    "# ODE\n",
    "\n",
    "We will solve the following linear Cauchy model\n",
    "\n",
    "\\begin{align}\n",
    "y^{\\prime}(t) &= \\lambda y(t)\\\\\n",
    "y(0) & = 1\n",
    "\\end{align}\n",
    "\n",
    "whose exact solution is\n",
    "\n",
    "$$\n",
    "y(t) = e^{\\lambda t}\n",
    "$$\n"
   ]
  },
  {
   "cell_type": "code",
   "execution_count": 2,
   "metadata": {},
   "outputs": [],
   "source": [
    "%matplotlib inline\n",
    "from numpy import *\n",
    "from matplotlib.pyplot import *\n",
    "import scipy.linalg\n",
    "import numpy.linalg\n",
    "\n",
    "l = -5.\n",
    "t0 = 0.\n",
    "tf = 10.\n",
    "y0 = 1.\n",
    "\n",
    "s = linspace(t0,tf,5000)\n",
    "\n",
    "exact = lambda x: exp(l*x)\n",
    "\n"
   ]
  },
  {
   "cell_type": "markdown",
   "metadata": {},
   "source": [
    "### Forward Euler\n",
    "\n",
    "$$\n",
    "\\frac{y_{n}-y_{n-1}}{h} = f(y_{n-1}, t_{n-1})\n",
    "$$"
   ]
  },
  {
   "cell_type": "code",
   "execution_count": 6,
   "metadata": {},
   "outputs": [
    {
     "name": "stdout",
     "output_type": "stream",
     "text": [
      "0.211605395525\n"
     ]
    },
    {
     "data": {
      "image/png": "[encoded data removed]",
      "text/plain": [
       "<matplotlib.figure.Figure at 0x7f6a6d1b67b8>"
      ]
     },
     "metadata": {},
     "output_type": "display_data"
    }
   ],
   "source": [
    "def fe(l,y0,t0,tf,h):\n",
    "    timesteps = arange(t0,tf+1e-10, h)\n",
    "    sol = zeros_like(timesteps)\n",
    "    sol[0] = y0\n",
    "    for i in range(1,len(sol)):\n",
    "        sol[i] = sol[i-1]*(1+l*h)\n",
    "    \n",
    "    return sol, timesteps\n",
    "\n",
    "y, t = fe(l,y0,t0,tf,0.1)\n",
    "\n",
    "_ = plot(t,y, 'o-')\n",
    "_ = plot(s,exact(s))\n",
    "\n",
    "error = numpy.linalg.norm(exact(t) - y, 2)\n",
    "print(error)"
   ]
  },
  {
   "cell_type": "markdown",
   "metadata": {},
   "source": [
    "### Backward Euler\n",
    "\n",
    "$$\n",
    "\\frac{y_{n}-y_{n-1}}{h} = f(y_{n}, t_{n})\n",
    "$$"
   ]
  },
  {
   "cell_type": "code",
   "execution_count": 26,
   "metadata": {
    "scrolled": true
   },
   "outputs": [
    {
     "name": "stdout",
     "output_type": "stream",
     "text": [
      "0.155817039121\n"
     ]
    },
    {
     "data": {
      "image/png": "[encoded data removed]",
      "text/plain": [
       "<matplotlib.figure.Figure at 0x7f97a95ec978>"
      ]
     },
     "metadata": {},
     "output_type": "display_data"
    }
   ],
   "source": [
    "def be(l,y0,t0,tf,h):\n",
    "    timesteps = arange(t0,tf+1e-10, h)\n",
    "    sol = zeros_like(timesteps)\n",
    "    sol[0] = y0\n",
    "    for i in range(1,len(sol)):\n",
    "        sol[i] = sol[i-1]/(1-l*h)\n",
    "    \n",
    "    return sol, timesteps\n",
    "\n",
    "y, t = be(l,y0,t0,tf,0.1)\n",
    "\n",
    "_ = plot(t,y, 'o-')\n",
    "_ = plot(s,exact(s))\n",
    "\n",
    "error = numpy.linalg.norm(exact(t) - y, 2)\n",
    "print(error)"
   ]
  },
  {
   "cell_type": "markdown",
   "metadata": {},
   "source": [
    "### $\\theta$-method\n",
    "\n",
    "$$\n",
    "\\frac{y_{n}-y_{n-1}}{h} = \\theta\\, f(y_{n}, t_{n}) + (1-\\theta)\\,f(y_{n-1}, t_{n-1})\n",
    "$$"
   ]
  },
  {
   "cell_type": "code",
   "execution_count": 33,
   "metadata": {},
   "outputs": [
    {
     "name": "stdout",
     "output_type": "stream",
     "text": [
      "0.16974015009\n"
     ]
    },
    {
     "data": {
      "image/png": "[encoded data removed]",
      "text/plain": [
       "<matplotlib.figure.Figure at 0x7f97a97f0668>"
      ]
     },
     "metadata": {},
     "output_type": "display_data"
    }
   ],
   "source": [
    "def tm(theta,l,y0,t0,tf,h):   \n",
    "    timesteps = arange(t0,tf+1e-10, h)\n",
    "    sol = zeros_like(timesteps)\n",
    "    sol[0] = y0\n",
    "    for i in range(1,len(sol)):\n",
    "        sol[i] = (sol[i-1]*(1+l*h*(1-theta)))/(1-theta*l*h)\n",
    "    \n",
    "    return sol, timesteps\n",
    "\n",
    "y, t = tm(0.1,l,y0,t0,tf,0.1)\n",
    "\n",
    "_ = plot(t,y, 'o-')\n",
    "_ = plot(s,exact(s))\n",
    "\n",
    "error = numpy.linalg.norm(exact(t) - y, 2)\n",
    "print(error)\n",
    "    "
   ]
  },
  {
   "cell_type": "markdown",
   "metadata": {},
   "source": [
    "### Simple adaptive time stepper\n",
    "\n",
    "For each time step:\n",
    "- Compute solution with CN\n",
    "- Compute solution with BE\n",
    "- Check the difference\n",
    "- If the difference satisfy a given tolerance:\n",
    "    - keep the solution of higher order\n",
    "    - double the step size\n",
    "    - go to the next step\n",
    "- Else:\n",
    "    - half the step size and repeat the time step"
   ]
  },
  {
   "cell_type": "code",
   "execution_count": 33,
   "metadata": {},
   "outputs": [
    {
     "name": "stdout",
     "output_type": "stream",
     "text": [
      " 0.000817298421905 74\n"
     ]
    },
    {
     "data": {
      "image/png": "[encoded data removed]",
      "text/plain": [
       "<matplotlib.figure.Figure at 0x7f4d938b1210>"
      ]
     },
     "metadata": {},
     "output_type": "display_data"
    }
   ],
   "source": [
    "def adaptive(l,y0,t0,tf,h0, hmax=0.9,tol=1e-3):\n",
    "    sol = []\n",
    "    sol.append(y0)\n",
    "    t = []\n",
    "    t.append(t0)\n",
    "    h = h0\n",
    "    while t[-1] < tf:\n",
    "        #print 'current t =', t[-1], '            h=', h\n",
    "        current_sol = sol[-1]\n",
    "        current_t = t[-1]\n",
    "        sol_cn, _ = tm(0.5,l,current_sol,current_t, current_t + h, h)\n",
    "        sol_be, _ = tm(1.,l,current_sol,current_t, current_t + h, h)\n",
    "        \n",
    "        if (abs(sol_cn[-1] - sol_be[-1]) < tol): #accept\n",
    "            sol.append(sol_cn[-1])\n",
    "            t.append(current_t+h)\n",
    "            h *= 2.\n",
    "            if h > hmax:\n",
    "                h=hmax\n",
    "        else:\n",
    "            h /= 2.\n",
    "            \n",
    "    return sol, t\n",
    "\n",
    "y,t = adaptive(l,y0,t0,tf,0.9)\n",
    "_ = plot(t,y, 'o-')\n",
    "_ = plot(s,exact(array(s)))\n",
    "\n",
    "error = numpy.linalg.norm(exact(array(t)) - y, infty)\n",
    "print error, len(y)"
   ]
  },
  {
   "cell_type": "code",
   "execution_count": null,
   "metadata": {},
   "outputs": [],
   "source": []
  },
  {
   "cell_type": "code",
   "execution_count": null,
   "metadata": {
    "collapsed": true
   },
   "outputs": [],
   "source": []
  }
 ],
 "metadata": {
  "anaconda-cloud": {},
  "kernelspec": {
   "display_name": "Python 3",
   "language": "python",
   "name": "python3"
  },
  "language_info": {
   "codemirror_mode": {
    "name": "ipython",
    "version": 3
   },
   "file_extension": ".py",
   "mimetype": "text/x-python",
   "name": "python",
   "nbconvert_exporter": "python",
   "pygments_lexer": "ipython3",
   "version": "3.5.2"
  }
 },
 "nbformat": 4,
 "nbformat_minor": 1
}
